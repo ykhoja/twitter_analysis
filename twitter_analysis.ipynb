{
  "nbformat": 4,
  "nbformat_minor": 0,
  "metadata": {
    "colab": {
      "name": "twitter_analysis.ipynb",
      "provenance": [],
      "collapsed_sections": [
        "R977d61QZ5Ns",
        "I7Dht9hN7zLt",
        "JwLvg_k7aLOm",
        "hMqeFvTSaRli",
        "N6pkkl88-AjE",
        "LGoqtxbAaHxt",
        "XqwOfOLeaVQj",
        "3tdWjGnnaZAu",
        "qJ9riIqArCA8",
        "1C5bWZ1FTtbG",
        "EaGv0ePkydNz",
        "3VeTVx9FGNCr"
      ],
      "include_colab_link": true
    },
    "kernelspec": {
      "name": "python3",
      "display_name": "Python 3"
    }
  },
  "cells": [
    {
      "cell_type": "markdown",
      "metadata": {
        "id": "view-in-github",
        "colab_type": "text"
      },
      "source": [
        "<a href=\"https://colab.research.google.com/github/ykhoja/twitter_analysis/blob/master/twitter_analysis.ipynb\" target=\"_parent\"><img src=\"https://colab.research.google.com/assets/colab-badge.svg\" alt=\"Open In Colab\"/></a>"
      ]
    },
    {
      "cell_type": "markdown",
      "metadata": {
        "id": "R977d61QZ5Ns",
        "colab_type": "text"
      },
      "source": [
        "# Setup"
      ]
    },
    {
      "cell_type": "code",
      "metadata": {
        "id": "3rz49iAGFy7d",
        "colab_type": "code",
        "colab": {}
      },
      "source": [
        "# Import needed libraries\n",
        "\n",
        "from google.colab import drive  # to mount Google Drive to Colab notebook\n",
        "import tweepy                   # Python wrapper around Twitter API\n",
        "import json\n",
        "import pandas as pd\n",
        "import csv\n",
        "from datetime import date\n",
        "from datetime import datetime\n",
        "import time\n",
        "import matplotlib.pyplot as plt"
      ],
      "execution_count": 0,
      "outputs": []
    },
    {
      "cell_type": "code",
      "metadata": {
        "id": "62iqWF0tAgHu",
        "colab_type": "code",
        "outputId": "96c26cd4-563e-4b26-e65a-ae66ceedfe30",
        "colab": {
          "base_uri": "https://localhost:8080/",
          "height": 124
        }
      },
      "source": [
        "# Mounting Google Drive\n",
        "\n",
        "drive.mount('/content/gdrive')\n",
        "path = './gdrive/My Drive/datasets/twitter_analysis/'"
      ],
      "execution_count": 2,
      "outputs": [
        {
          "output_type": "stream",
          "text": [
            "Go to this URL in a browser: https://accounts.google.com/o/oauth2/auth?client_id=947318989803-6bn6qk8qdgf4n4g3pfee6491hc0brc4i.apps.googleusercontent.com&redirect_uri=urn%3aietf%3awg%3aoauth%3a2.0%3aoob&response_type=code&scope=email%20https%3a%2f%2fwww.googleapis.com%2fauth%2fdocs.test%20https%3a%2f%2fwww.googleapis.com%2fauth%2fdrive%20https%3a%2f%2fwww.googleapis.com%2fauth%2fdrive.photos.readonly%20https%3a%2f%2fwww.googleapis.com%2fauth%2fpeopleapi.readonly\n",
            "\n",
            "Enter your authorization code:\n",
            "··········\n",
            "Mounted at /content/gdrive\n"
          ],
          "name": "stdout"
        }
      ]
    },
    {
      "cell_type": "markdown",
      "metadata": {
        "id": "I7Dht9hN7zLt",
        "colab_type": "text"
      },
      "source": [
        "# Twitter Data Collection"
      ]
    },
    {
      "cell_type": "markdown",
      "metadata": {
        "id": "tI7wTx6Y86aA",
        "colab_type": "text"
      },
      "source": [
        "## Log into Twitter API"
      ]
    },
    {
      "cell_type": "code",
      "metadata": {
        "id": "o0sLihQvDfqf",
        "colab_type": "code",
        "colab": {}
      },
      "source": [
        "# Load Twitter API secrets from an external file\n",
        "secrets = json.loads(open(path + 'secrets.json').read())  \n",
        "\n",
        "consumer_key = secrets['consumer_key']\n",
        "consumer_secret = secrets['consumer_secret']\n",
        "access_token = secrets['access_token']\n",
        "access_token_secret = secrets['access_token_secret']\n",
        "\n",
        "auth = tweepy.OAuthHandler(consumer_key, consumer_secret)\n",
        "auth.set_access_token(access_token, access_token_secret)\n",
        "\n",
        "api = tweepy.API(auth)"
      ],
      "execution_count": 0,
      "outputs": []
    },
    {
      "cell_type": "markdown",
      "metadata": {
        "id": "8dReN9IjZScj",
        "colab_type": "text"
      },
      "source": [
        "## Helper Functions"
      ]
    },
    {
      "cell_type": "markdown",
      "metadata": {
        "id": "JwLvg_k7aLOm",
        "colab_type": "text"
      },
      "source": [
        "### Save JSON file"
      ]
    },
    {
      "cell_type": "code",
      "metadata": {
        "id": "B7UpX8xgW9n6",
        "colab_type": "code",
        "colab": {}
      },
      "source": [
        "# Helper function to save data into a JSON file\n",
        "def save_json(file_name, file_content):\n",
        "  with open(path + file_name, 'w', encoding='utf-8') as f:\n",
        "    json.dump(file_content, f, ensure_ascii=False, indent=4)"
      ],
      "execution_count": 0,
      "outputs": []
    },
    {
      "cell_type": "markdown",
      "metadata": {
        "id": "hMqeFvTSaRli",
        "colab_type": "text"
      },
      "source": [
        "### Twitter API limit handling"
      ]
    },
    {
      "cell_type": "code",
      "metadata": {
        "id": "Ocl22Jop1OmM",
        "colab_type": "code",
        "colab": {}
      },
      "source": [
        "# Helper function to handle twitter API rate limit\n",
        "\n",
        "def limit_handled(cursor, list_name):\n",
        "    while True:\n",
        "        try:\n",
        "            yield cursor.next()\n",
        "        except tweepy.RateLimitError:\n",
        "            print(\"\\nCurrent number of data points in list = \" + str(len(list_name)))\n",
        "            print('Hit Twitter API rate limit.')\n",
        "            for i in range(3, 0, -1):\n",
        "              print(\"Wait for {} mins.\".format(i * 5))\n",
        "              time.sleep(5 * 60)\n",
        "        except tweepy.error.TweepError:\n",
        "            print('\\nCaught TweepError exception' )"
      ],
      "execution_count": 0,
      "outputs": []
    },
    {
      "cell_type": "markdown",
      "metadata": {
        "id": "N6pkkl88-AjE",
        "colab_type": "text"
      },
      "source": [
        "## Data Collection Functions"
      ]
    },
    {
      "cell_type": "markdown",
      "metadata": {
        "id": "LGoqtxbAaHxt",
        "colab_type": "text"
      },
      "source": [
        "### Get all tweets"
      ]
    },
    {
      "cell_type": "code",
      "metadata": {
        "id": "3GgkDnT7cplW",
        "colab_type": "code",
        "colab": {}
      },
      "source": [
        "# Helper function to get all tweets for a specified user\n",
        "# NOTE:  This method only allows access to the most recent 3240 tweets\n",
        "# Source: https://gist.github.com/yanofsky/5436496\n",
        "\n",
        "def get_all_tweets(screen_name):\n",
        "\n",
        "\t# initialize a list to hold all the tweepy Tweets\n",
        "\talltweets = []\t\n",
        "\t\n",
        "\t# make initial request for most recent tweets (200 is the maximum allowed count)\n",
        "\tnew_tweets = api.user_timeline(screen_name = screen_name,count=200)\n",
        "\t\n",
        "\t# save most recent tweets\n",
        "\talltweets.extend(new_tweets)\n",
        "\t\n",
        "\t# save the id of the oldest tweet less one\n",
        "\toldest = alltweets[-1].id - 1\n",
        "\t\n",
        "\t# keep grabbing tweets until there are no tweets left to grab\n",
        "\twhile len(new_tweets) > 0:\n",
        "\t\tprint(\"getting tweets before %s\" % (oldest))\n",
        "\t\t\n",
        "\t\t# all subsiquent requests use the max_id param to prevent duplicates\n",
        "\t\tnew_tweets = api.user_timeline(screen_name = screen_name,count=200,max_id=oldest)\n",
        "\t\t\n",
        "\t\t# save most recent tweets\n",
        "\t\talltweets.extend(new_tweets)\n",
        "\t\t\n",
        "\t\t# update the id of the oldest tweet less one\n",
        "\t\toldest = alltweets[-1].id - 1\n",
        "\t\t\n",
        "\t\tprint(\"...%s tweets downloaded so far\" % (len(alltweets)))\n",
        "\t\n",
        "\t# transform the tweepy tweets into a 2D array that will populate the csv\t\n",
        "\touttweets = [[tweet.id_str, tweet.created_at, tweet.text, tweet.favorite_count, \n",
        "\t              tweet.in_reply_to_screen_name, tweet.retweeted] for tweet in alltweets]\n",
        "\t\n",
        "\t# write the csv\t\n",
        "\twith open(path + '%s_tweets.csv' % screen_name, 'w') as f:\n",
        "\t\twriter = csv.writer(f)\n",
        "\t\twriter.writerow([\"id\",\"created_at\",\"text\",\"likes\",\"in reply to\",\"retweeted\"])\n",
        "\t\twriter.writerows(outtweets)\n",
        "\t\n",
        "\tpass"
      ],
      "execution_count": 0,
      "outputs": []
    },
    {
      "cell_type": "markdown",
      "metadata": {
        "id": "v5GoNPjWaNdS",
        "colab_type": "text"
      },
      "source": [
        "### Get today's twitter stats"
      ]
    },
    {
      "cell_type": "code",
      "metadata": {
        "id": "gokG94gcBIk9",
        "colab_type": "code",
        "colab": {}
      },
      "source": [
        "# Helper function to get today's numbers of followers and friends and store \n",
        "# them into a JSON file\n",
        "\n",
        "def todays_stats(dict_name):\n",
        "  info = api.me()\n",
        "  followers_cnt = info.followers_count\n",
        "  following_cnt = info.friends_count\n",
        "  today = date.today()\n",
        "  d = today.strftime(\"%b %d, %Y\")\n",
        "  if d not in dict_name:\n",
        "    dict_name[d] = {\"followers\":followers_cnt, \"following\":following_cnt}\n",
        "    save_json(\"follower_history.json\", dict_name)\n",
        "  else:\n",
        "    print('Today\\'s stats already exist')"
      ],
      "execution_count": 0,
      "outputs": []
    },
    {
      "cell_type": "markdown",
      "metadata": {
        "id": "XqwOfOLeaVQj",
        "colab_type": "text"
      },
      "source": [
        "### Get followers data"
      ]
    },
    {
      "cell_type": "code",
      "metadata": {
        "id": "uOnktIkdMDZq",
        "colab_type": "code",
        "colab": {}
      },
      "source": [
        "# Helper function to load follower objects into a list and save it into \n",
        "# a JSON file. \n",
        "\n",
        "def get_followers():\n",
        "  followers = []\n",
        "\n",
        "  for i, page in enumerate(limit_handled(tweepy.Cursor(api.followers, count=200).pages(), followers)):\n",
        "      print(\"\\r\"+\"Loading\"+ i % 5 *\".\", end='')\n",
        "      followers += page\n",
        "\n",
        "  followers = [x._json for x in followers]\n",
        "  save_json('followers_data.json', followers)"
      ],
      "execution_count": 0,
      "outputs": []
    },
    {
      "cell_type": "markdown",
      "metadata": {
        "id": "3tdWjGnnaZAu",
        "colab_type": "text"
      },
      "source": [
        "### Get friends data"
      ]
    },
    {
      "cell_type": "code",
      "metadata": {
        "id": "ujhGTndN04PR",
        "colab_type": "code",
        "colab": {}
      },
      "source": [
        "# Load friends into list\n",
        "\n",
        "def get_friends():\n",
        "  friends = []\n",
        "\n",
        "  for i, page in enumerate(limit_handled(tweepy.Cursor(api.friends, count=200).pages(), friends)):\n",
        "      print(\"\\r\"+\"Loading\"+ i % 5 *\".\", end='')\n",
        "      friends += page\n",
        "\n",
        "  friends = [x._json for x in friends]\n",
        "  save_json('friends_data.json', friends)"
      ],
      "execution_count": 0,
      "outputs": []
    },
    {
      "cell_type": "markdown",
      "metadata": {
        "id": "aSZUnmekZkzr",
        "colab_type": "text"
      },
      "source": [
        "## Data Collection Main Script"
      ]
    },
    {
      "cell_type": "code",
      "metadata": {
        "id": "OVv-CrxiWXRx",
        "colab_type": "code",
        "outputId": "e1768ae3-d838-4d0b-80f4-eb848572f5ef",
        "colab": {
          "base_uri": "https://localhost:8080/",
          "height": 711
        }
      },
      "source": [
        "if __name__ == '__main__':\n",
        "  #pass in the username of the account you want to download\n",
        "  get_all_tweets(\"yakhoja\")\n",
        "  with open(path + 'follower_history.json') as json_file:\n",
        "    history = json.load(json_file)\n",
        "  todays_stats(history)\n",
        "  get_followers()\n",
        "  get_friends()"
      ],
      "execution_count": 0,
      "outputs": [
        {
          "output_type": "stream",
          "text": [
            "getting tweets before 1187233221303386111\n",
            "...400 tweets downloaded so far\n",
            "getting tweets before 1176664039721590783\n",
            "...600 tweets downloaded so far\n",
            "getting tweets before 1163903890674180096\n",
            "...800 tweets downloaded so far\n",
            "getting tweets before 1131070880103030783\n",
            "...1000 tweets downloaded so far\n",
            "getting tweets before 1119489695308632063\n",
            "...1199 tweets downloaded so far\n",
            "getting tweets before 1104249123379658752\n",
            "...1399 tweets downloaded so far\n",
            "getting tweets before 1066927073829150720\n",
            "...1597 tweets downloaded so far\n",
            "getting tweets before 586527523011305471\n",
            "...1597 tweets downloaded so far\n",
            "Loading....\n",
            "Current number of data points in list = 3000\n",
            "Hit API limit. Wait for 5 mins.\n",
            "Hit API limit. Wait for 5 mins.\n",
            "Hit API limit. Wait for 5 mins.\n",
            "\n",
            "Caught TweepError exception\n",
            "Loading....\n",
            "Current number of data points in list = 6000\n",
            "Hit API limit. Wait for 5 mins.\n",
            "Hit API limit. Wait for 5 mins.\n",
            "Hit API limit. Wait for 5 mins.\n",
            "\n",
            "Caught TweepError exception\n",
            "Loading....\n",
            "Current number of data points in list = 9000\n",
            "Hit API limit. Wait for 5 mins.\n",
            "Hit API limit. Wait for 5 mins.\n",
            "Hit API limit. Wait for 5 mins.\n",
            "\n",
            "Caught TweepError exception\n",
            "Loading...."
          ],
          "name": "stdout"
        },
        {
          "output_type": "stream",
          "text": [
            "/usr/local/lib/python3.6/dist-packages/ipykernel_launcher.py:5: DeprecationWarning: generator 'limit_handled' raised StopIteration\n",
            "  \"\"\"\n"
          ],
          "name": "stderr"
        },
        {
          "output_type": "stream",
          "text": [
            "Loading.."
          ],
          "name": "stdout"
        }
      ]
    },
    {
      "cell_type": "markdown",
      "metadata": {
        "id": "qJ9riIqArCA8",
        "colab_type": "text"
      },
      "source": [
        "# Analyzing tweets "
      ]
    },
    {
      "cell_type": "markdown",
      "metadata": {
        "id": "RpBxm5oL9a0w",
        "colab_type": "text"
      },
      "source": [
        "## Load saved data from Google Drive"
      ]
    },
    {
      "cell_type": "code",
      "metadata": {
        "id": "FB-5HTioC-a0",
        "colab_type": "code",
        "colab": {}
      },
      "source": [
        "# Load all saved tweets from @yakhoja\n",
        "tweets = pd.read_csv(path + 'yakhoja_tweets.csv')"
      ],
      "execution_count": 0,
      "outputs": []
    },
    {
      "cell_type": "markdown",
      "metadata": {
        "id": "V2Y9Pljx9YhZ",
        "colab_type": "text"
      },
      "source": [
        "### Classify tweets"
      ]
    },
    {
      "cell_type": "code",
      "metadata": {
        "id": "3I9PKIc_C4jK",
        "colab_type": "code",
        "colab": {}
      },
      "source": [
        "# Classify the type of each tweet (i.e. Tweet, Reply, or Retweet)\n",
        "\n",
        "tweets.retweeted = tweets.text.apply(lambda x: True if 'RT @' in x else False)\n",
        "tweets['in reply to'] = tweets['in reply to'].fillna('N/A')\n",
        "tweets['type'] = tweets['in reply to'].apply(lambda x: 'Tweet' if x == \"yakhoja\" or x == 'N/A' else 'Reply')\n",
        "tweets.loc[tweets.retweeted, 'type'] = 'Retweet'\n",
        "tweets.to_csv(path + 'yakhoja_tweets.csv')"
      ],
      "execution_count": 0,
      "outputs": []
    },
    {
      "cell_type": "code",
      "metadata": {
        "id": "zpGJR0g2deQv",
        "colab_type": "code",
        "outputId": "1cea0620-e0b9-4a3f-d6a3-c1eb7575a98b",
        "colab": {
          "base_uri": "https://localhost:8080/",
          "height": 156
        }
      },
      "source": [
        "# Find the number of tweets in each type\n",
        "print('Total number of tweets = {}'.format(len(tweets)))\n",
        "print('\\nNumber of tweets by')\n",
        "tweets.groupby('type').count().id"
      ],
      "execution_count": 5,
      "outputs": [
        {
          "output_type": "stream",
          "text": [
            "Total number of tweets = 1597\n",
            "\n",
            "Number of tweets by\n"
          ],
          "name": "stdout"
        },
        {
          "output_type": "execute_result",
          "data": {
            "text/plain": [
              "type\n",
              "Reply      748\n",
              "Retweet    237\n",
              "Tweet      612\n",
              "Name: id, dtype: int64"
            ]
          },
          "metadata": {
            "tags": []
          },
          "execution_count": 5
        }
      ]
    },
    {
      "cell_type": "code",
      "metadata": {
        "id": "kFTo6zt3qRAW",
        "colab_type": "code",
        "outputId": "791ee36a-1696-47f3-9a96-272b4461a14a",
        "colab": {
          "base_uri": "https://localhost:8080/",
          "height": 104
        }
      },
      "source": [
        "# Find the average number of likes per tweet type\n",
        "tweets.groupby('type').mean().likes"
      ],
      "execution_count": 0,
      "outputs": [
        {
          "output_type": "execute_result",
          "data": {
            "text/plain": [
              "type\n",
              "Reply       1.847594\n",
              "Retweet     0.000000\n",
              "Tweet      52.892157\n",
              "Name: likes, dtype: float64"
            ]
          },
          "metadata": {
            "tags": []
          },
          "execution_count": 9
        }
      ]
    },
    {
      "cell_type": "code",
      "metadata": {
        "id": "BBmw_BO7rACZ",
        "colab_type": "code",
        "outputId": "5f086ab8-bdee-417e-db28-e5492f4bf869",
        "colab": {
          "base_uri": "https://localhost:8080/",
          "height": 884
        }
      },
      "source": [
        "# Find and print the top 10 tweets by number of likes\n",
        "top10 = tweets.sort_values('likes',ascending=False)\n",
        "top10 = top10.reset_index(drop=True)\n",
        "top10 = top10.head(10)\n",
        "\n",
        "for i in range(len(top10)):\n",
        "  print(\"{}) At {} likes:\".format(i+1, top10.likes[i]))\n",
        "  print(top10.text[i]+\"\\n\")"
      ],
      "execution_count": 0,
      "outputs": [
        {
          "output_type": "stream",
          "text": [
            "1) At 2093 likes:\n",
            "الحمدلله أمس استعملت #الذكاء_الاصطناعي في حل مشكلة شخصية مزمنة كانت عندي....\n",
            "\n",
            "... الا وهي اني ما اعرف افرق بين البق… https://t.co/4nUf6kaWQN\n",
            "\n",
            "2) At 1584 likes:\n",
            "بعض الأمور التي ساعدتني على تنظيم وقتي ومهامي بالعمل\n",
            "\n",
            "- وضع أهداف للاسبوع\n",
            "- استعمال تطبيقات لقائمة المهام مثل Trell… https://t.co/ovbt1WnhGR\n",
            "\n",
            "3) At 1254 likes:\n",
            "للمهتمين في #تعلم_الآلة ، هذا كتاب من ١٠٠ صفحة فقط يلخص اهم المبادئ الاحصائية و الرياضية و البرمجية مع امثلة و تدري… https://t.co/mglDeysNjB\n",
            "\n",
            "4) At 1195 likes:\n",
            "في هذه السلسلة سأوضح كيف تبدأ في مجال تعلم الآلة من خلال منهجية تعالج أكبر 3 صعوبات قد تواجه المتعلم الذاتي حسب نتا… https://t.co/tnTrwpUw52\n",
            "\n",
            "5) At 1144 likes:\n",
            "إذا شعرت بالتوتر لأن لديك عدد كبير من المهام ولا تدري أين تبدأ، فأتبع هذه الثلاث خطوات البسيطة\n",
            "\n",
            "١) عدّد جميع المهام… https://t.co/Rc1TrVrVx2\n",
            "\n",
            "6) At 1081 likes:\n",
            "مقال اكثر من رائع يحلل عودة مايكروسوفت للقمة منذ أن تولى ساتيا ناديلا قيادة الشركة في ٢٠١٤\n",
            "\n",
            "خلال ٢٠١٨ تجاوزت قيمة م… https://t.co/POd5Ouyfcz\n",
            "\n",
            "7) At 1076 likes:\n",
            "أطلقت شركة #أمازون مجموعة مواد تدريبية مجانية في موضوع تعلم الآلة (جزء من #الذكاء_الاصطناعي)\n",
            "\n",
            "تنقسم المواد إلى 4 مس… https://t.co/1dzFSgu4u7\n",
            "\n",
            "8) At 859 likes:\n",
            "من أجمل الدروس التي مرت علي خلال دراستي في ستانفورد هي قصة\n",
            " Blue River Technology \n",
            "\n",
            "قد لا يكون الكثير قد سمع عن هذه… https://t.co/DV4j5ZpPTN\n",
            "\n",
            "9) At 780 likes:\n",
            "شرائح من الاستاذ المشارك بكلية إدارة الاعمال بهارفارد @ThalesHBS بعنوان\n",
            "\n",
            "\"كيف تحصل على أول ١٠٠٠ زبون - دروس من Uber… https://t.co/MNLt9xnAIM\n",
            "\n",
            "10) At 692 likes:\n",
            "صورة لقرص صلب من IBM في ١٩٥٦ سعة تخزينه ٥ ميجابايت فقط!\n",
            "\n",
            "و اليوم نجد كرت ذاكرة بحجم ظفر الإصبع بسعة ٥١٢ جيجابايت\n",
            "\n",
            "ي… https://t.co/GQNR8BKXjZ\n",
            "\n"
          ],
          "name": "stdout"
        }
      ]
    },
    {
      "cell_type": "code",
      "metadata": {
        "id": "_AHsa6IAIAn8",
        "colab_type": "code",
        "outputId": "3942f55f-e41f-482a-9e0f-89b280abc444",
        "colab": {
          "base_uri": "https://localhost:8080/",
          "height": 1000
        }
      },
      "source": [
        "# Find tweets with likes > 49 but < 100\n",
        "# 49 = the average number of likes my tweets get\n",
        "# 100 was arbitrarily chosen\n",
        "\n",
        "tweets[((tweets.likes > 49) & (tweets.likes < 100))].sort_values('likes',ascending=False)"
      ],
      "execution_count": 0,
      "outputs": [
        {
          "output_type": "execute_result",
          "data": {
            "text/html": [
              "<div>\n",
              "<style scoped>\n",
              "    .dataframe tbody tr th:only-of-type {\n",
              "        vertical-align: middle;\n",
              "    }\n",
              "\n",
              "    .dataframe tbody tr th {\n",
              "        vertical-align: top;\n",
              "    }\n",
              "\n",
              "    .dataframe thead th {\n",
              "        text-align: right;\n",
              "    }\n",
              "</style>\n",
              "<table border=\"1\" class=\"dataframe\">\n",
              "  <thead>\n",
              "    <tr style=\"text-align: right;\">\n",
              "      <th></th>\n",
              "      <th>id</th>\n",
              "      <th>created_at</th>\n",
              "      <th>text</th>\n",
              "      <th>likes</th>\n",
              "      <th>in reply to</th>\n",
              "      <th>retweeted</th>\n",
              "      <th>type</th>\n",
              "    </tr>\n",
              "  </thead>\n",
              "  <tbody>\n",
              "    <tr>\n",
              "      <th>985</th>\n",
              "      <td>1120465979723649026</td>\n",
              "      <td>2019-04-22 23:14:41</td>\n",
              "      <td>الأساسيات المطلوبة\\n1) الإحصاء و الإحتمالات:  ...</td>\n",
              "      <td>97</td>\n",
              "      <td>yakhoja</td>\n",
              "      <td>False</td>\n",
              "      <td>Tweet</td>\n",
              "    </tr>\n",
              "    <tr>\n",
              "      <th>111</th>\n",
              "      <td>1192276908521787392</td>\n",
              "      <td>2019-11-07 03:05:41</td>\n",
              "      <td>هذه تغريدات كتبتها عن التقديم الوظيفي فيها اهم...</td>\n",
              "      <td>95</td>\n",
              "      <td>N/A</td>\n",
              "      <td>False</td>\n",
              "      <td>Tweet</td>\n",
              "    </tr>\n",
              "    <tr>\n",
              "      <th>103</th>\n",
              "      <td>1193436702032818177</td>\n",
              "      <td>2019-11-10 07:54:17</td>\n",
              "      <td>وجدت قوقل ٨ صفات لافضل المدراء حسب الدراسة\\n\\n...</td>\n",
              "      <td>93</td>\n",
              "      <td>yakhoja</td>\n",
              "      <td>False</td>\n",
              "      <td>Tweet</td>\n",
              "    </tr>\n",
              "    <tr>\n",
              "      <th>459</th>\n",
              "      <td>1172891741063544833</td>\n",
              "      <td>2019-09-14 15:15:57</td>\n",
              "      <td>تخيل انك في البحر في قارب مثقوب. هل ستتجاهل ال...</td>\n",
              "      <td>85</td>\n",
              "      <td>N/A</td>\n",
              "      <td>False</td>\n",
              "      <td>Tweet</td>\n",
              "    </tr>\n",
              "    <tr>\n",
              "      <th>98</th>\n",
              "      <td>1194125191665897472</td>\n",
              "      <td>2019-11-12 05:30:06</td>\n",
              "      <td>مدير #الذكاء_الاصطناعي في @Tesla يتحدث عن كيفي...</td>\n",
              "      <td>84</td>\n",
              "      <td>N/A</td>\n",
              "      <td>False</td>\n",
              "      <td>Tweet</td>\n",
              "    </tr>\n",
              "    <tr>\n",
              "      <th>89</th>\n",
              "      <td>1194766231355609088</td>\n",
              "      <td>2019-11-13 23:57:21</td>\n",
              "      <td>اكتشفت كيف اكتب في #بايثون على نفس السطر مع اس...</td>\n",
              "      <td>83</td>\n",
              "      <td>N/A</td>\n",
              "      <td>False</td>\n",
              "      <td>Tweet</td>\n",
              "    </tr>\n",
              "    <tr>\n",
              "      <th>538</th>\n",
              "      <td>1170698934081032192</td>\n",
              "      <td>2019-09-08 14:02:31</td>\n",
              "      <td>الآن نشرح اكثر - نبدأ بنبذة عن التعلم الانتقال...</td>\n",
              "      <td>83</td>\n",
              "      <td>yakhoja</td>\n",
              "      <td>False</td>\n",
              "      <td>Tweet</td>\n",
              "    </tr>\n",
              "    <tr>\n",
              "      <th>1120</th>\n",
              "      <td>1111377439656050688</td>\n",
              "      <td>2019-03-28 21:20:04</td>\n",
              "      <td>\"لا تجعل المثالية تقف في طريق ما يكفي\"\\n\\nهذه ...</td>\n",
              "      <td>80</td>\n",
              "      <td>N/A</td>\n",
              "      <td>False</td>\n",
              "      <td>Tweet</td>\n",
              "    </tr>\n",
              "    <tr>\n",
              "      <th>592</th>\n",
              "      <td>1164339423913267200</td>\n",
              "      <td>2019-08-22 00:52:05</td>\n",
              "      <td>شركة @Waymo (التابعة لقوقل) قامت بتوفير مجموعة...</td>\n",
              "      <td>80</td>\n",
              "      <td>N/A</td>\n",
              "      <td>False</td>\n",
              "      <td>Tweet</td>\n",
              "    </tr>\n",
              "    <tr>\n",
              "      <th>83</th>\n",
              "      <td>1195374534079025152</td>\n",
              "      <td>2019-11-15 16:14:32</td>\n",
              "      <td>I published \"The Grand Cluster Hotel\", a non-t...</td>\n",
              "      <td>79</td>\n",
              "      <td>N/A</td>\n",
              "      <td>False</td>\n",
              "      <td>Tweet</td>\n",
              "    </tr>\n",
              "    <tr>\n",
              "      <th>142</th>\n",
              "      <td>1191588647801364481</td>\n",
              "      <td>2019-11-05 05:30:46</td>\n",
              "      <td>لم يعد يكفي إطلاق ابسط منتج قابل للتطبيق (MVP)...</td>\n",
              "      <td>79</td>\n",
              "      <td>N/A</td>\n",
              "      <td>False</td>\n",
              "      <td>Tweet</td>\n",
              "    </tr>\n",
              "    <tr>\n",
              "      <th>1017</th>\n",
              "      <td>1116851015511187456</td>\n",
              "      <td>2019-04-12 23:50:06</td>\n",
              "      <td>إذا حاولت دراسة #تعلم_الالة ذاتياً، ما أكبر ال...</td>\n",
              "      <td>75</td>\n",
              "      <td>N/A</td>\n",
              "      <td>False</td>\n",
              "      <td>Tweet</td>\n",
              "    </tr>\n",
              "    <tr>\n",
              "      <th>239</th>\n",
              "      <td>1183446946075181058</td>\n",
              "      <td>2019-10-13 18:18:33</td>\n",
              "      <td>التغلب على الخوف لا يعني عدم الشعور به ابداً\\n...</td>\n",
              "      <td>74</td>\n",
              "      <td>N/A</td>\n",
              "      <td>False</td>\n",
              "      <td>Tweet</td>\n",
              "    </tr>\n",
              "    <tr>\n",
              "      <th>927</th>\n",
              "      <td>1124422626875592704</td>\n",
              "      <td>2019-05-03 21:16:59</td>\n",
              "      <td>ما من مشكلة شخصية واجهتها إلا و كان حلّها الحد...</td>\n",
              "      <td>74</td>\n",
              "      <td>N/A</td>\n",
              "      <td>False</td>\n",
              "      <td>Tweet</td>\n",
              "    </tr>\n",
              "    <tr>\n",
              "      <th>910</th>\n",
              "      <td>1125502090418069505</td>\n",
              "      <td>2019-05-06 20:46:23</td>\n",
              "      <td>و لله الحمد تم نشر أول مقالة مترجمة لي على موق...</td>\n",
              "      <td>74</td>\n",
              "      <td>N/A</td>\n",
              "      <td>False</td>\n",
              "      <td>Tweet</td>\n",
              "    </tr>\n",
              "    <tr>\n",
              "      <th>439</th>\n",
              "      <td>1173920336611594242</td>\n",
              "      <td>2019-09-17 11:23:13</td>\n",
              "      <td>مجلة فوربس تصدر قائمة بأفضل ٥٠ شركة ناشئة في أ...</td>\n",
              "      <td>74</td>\n",
              "      <td>N/A</td>\n",
              "      <td>False</td>\n",
              "      <td>Tweet</td>\n",
              "    </tr>\n",
              "    <tr>\n",
              "      <th>1438</th>\n",
              "      <td>1060050474085187584</td>\n",
              "      <td>2018-11-07 06:05:02</td>\n",
              "      <td>هنا بعض النماذج لرسائل التوصية الفعالة مع شرح ...</td>\n",
              "      <td>74</td>\n",
              "      <td>yakhoja</td>\n",
              "      <td>False</td>\n",
              "      <td>Tweet</td>\n",
              "    </tr>\n",
              "    <tr>\n",
              "      <th>151</th>\n",
              "      <td>1191241377444696064</td>\n",
              "      <td>2019-11-04 06:30:51</td>\n",
              "      <td>الشركات الناشئة تفشل بسبب التوقيت الخاطئ لأنها...</td>\n",
              "      <td>72</td>\n",
              "      <td>N/A</td>\n",
              "      <td>False</td>\n",
              "      <td>Tweet</td>\n",
              "    </tr>\n",
              "    <tr>\n",
              "      <th>979</th>\n",
              "      <td>1120465986006679553</td>\n",
              "      <td>2019-04-22 23:14:42</td>\n",
              "      <td>بالنسبة للصعوبات بسبب عامل اللغة, تابع:\\n1) مو...</td>\n",
              "      <td>70</td>\n",
              "      <td>yakhoja</td>\n",
              "      <td>False</td>\n",
              "      <td>Tweet</td>\n",
              "    </tr>\n",
              "    <tr>\n",
              "      <th>803</th>\n",
              "      <td>1130240779924852736</td>\n",
              "      <td>2019-05-19 22:36:15</td>\n",
              "      <td>الحمدلله ثاني مقال مترجم لي على موقع @nmthgiat...</td>\n",
              "      <td>70</td>\n",
              "      <td>N/A</td>\n",
              "      <td>False</td>\n",
              "      <td>Tweet</td>\n",
              "    </tr>\n",
              "    <tr>\n",
              "      <th>85</th>\n",
              "      <td>1195212334211518465</td>\n",
              "      <td>2019-11-15 05:30:01</td>\n",
              "      <td>نصائح لمؤسسي الشركات الناشئة عن الاستحواذ\\n\\n-...</td>\n",
              "      <td>70</td>\n",
              "      <td>N/A</td>\n",
              "      <td>False</td>\n",
              "      <td>Tweet</td>\n",
              "    </tr>\n",
              "    <tr>\n",
              "      <th>566</th>\n",
              "      <td>1169124307945099269</td>\n",
              "      <td>2019-09-04 05:45:30</td>\n",
              "      <td>#خبر اول حالة سرقة باستخدام #الذكاء_الاصطناعي ...</td>\n",
              "      <td>69</td>\n",
              "      <td>N/A</td>\n",
              "      <td>False</td>\n",
              "      <td>Tweet</td>\n",
              "    </tr>\n",
              "    <tr>\n",
              "      <th>310</th>\n",
              "      <td>1180546122571370496</td>\n",
              "      <td>2019-10-05 18:11:43</td>\n",
              "      <td>التجربة خير معلم\\n\\nقد تبحث و تقرأ لكن لن تتعل...</td>\n",
              "      <td>69</td>\n",
              "      <td>N/A</td>\n",
              "      <td>False</td>\n",
              "      <td>Tweet</td>\n",
              "    </tr>\n",
              "    <tr>\n",
              "      <th>602</th>\n",
              "      <td>1163903884932206593</td>\n",
              "      <td>2019-08-20 20:01:25</td>\n",
              "      <td>في ٢٨ يوليو اتممت و لله الحمد ماراثون مدينة سا...</td>\n",
              "      <td>68</td>\n",
              "      <td>N/A</td>\n",
              "      <td>False</td>\n",
              "      <td>Tweet</td>\n",
              "    </tr>\n",
              "    <tr>\n",
              "      <th>622</th>\n",
              "      <td>1140984413188001798</td>\n",
              "      <td>2019-06-18 14:07:37</td>\n",
              "      <td>مقال يشرح كيف تستعمل شركة فورد للسيارات الذكاء...</td>\n",
              "      <td>67</td>\n",
              "      <td>N/A</td>\n",
              "      <td>False</td>\n",
              "      <td>Tweet</td>\n",
              "    </tr>\n",
              "    <tr>\n",
              "      <th>1353</th>\n",
              "      <td>1082761793657683968</td>\n",
              "      <td>2019-01-08 22:11:43</td>\n",
              "      <td>هذه الصفحة تسرد الأوراق العلمية الحائزة على جا...</td>\n",
              "      <td>66</td>\n",
              "      <td>N/A</td>\n",
              "      <td>False</td>\n",
              "      <td>Tweet</td>\n",
              "    </tr>\n",
              "    <tr>\n",
              "      <th>1189</th>\n",
              "      <td>1104355554535718918</td>\n",
              "      <td>2019-03-09 12:17:36</td>\n",
              "      <td>تمرين بسيط لتطوير الذات\\n\\nخذ اي مبدأ من مجالك...</td>\n",
              "      <td>66</td>\n",
              "      <td>N/A</td>\n",
              "      <td>False</td>\n",
              "      <td>Tweet</td>\n",
              "    </tr>\n",
              "    <tr>\n",
              "      <th>431</th>\n",
              "      <td>1174444278283526144</td>\n",
              "      <td>2019-09-18 22:05:10</td>\n",
              "      <td>أحياناً تشتغل على شي و تحس بالإحباط لأنه الوقت...</td>\n",
              "      <td>66</td>\n",
              "      <td>N/A</td>\n",
              "      <td>False</td>\n",
              "      <td>Tweet</td>\n",
              "    </tr>\n",
              "    <tr>\n",
              "      <th>687</th>\n",
              "      <td>1137247430305443840</td>\n",
              "      <td>2019-06-08 06:38:11</td>\n",
              "      <td>هناك فرق بين القيادة والإدارة\\n\\nكن قائداً دون...</td>\n",
              "      <td>65</td>\n",
              "      <td>N/A</td>\n",
              "      <td>False</td>\n",
              "      <td>Tweet</td>\n",
              "    </tr>\n",
              "    <tr>\n",
              "      <th>1016</th>\n",
              "      <td>1116873946643591169</td>\n",
              "      <td>2019-04-13 01:21:14</td>\n",
              "      <td>@alaa_al7arbi انا استعين بمعجم نمذجيات للترجمة...</td>\n",
              "      <td>64</td>\n",
              "      <td>alaa_al7arbi</td>\n",
              "      <td>False</td>\n",
              "      <td>Reply</td>\n",
              "    </tr>\n",
              "    <tr>\n",
              "      <th>785</th>\n",
              "      <td>1133804547137081344</td>\n",
              "      <td>2019-05-29 18:37:23</td>\n",
              "      <td>الحمدلله على تمام النعم\\n\\nاشكر شبكة @First1Sa...</td>\n",
              "      <td>64</td>\n",
              "      <td>N/A</td>\n",
              "      <td>False</td>\n",
              "      <td>Tweet</td>\n",
              "    </tr>\n",
              "    <tr>\n",
              "      <th>394</th>\n",
              "      <td>1177220135976722432</td>\n",
              "      <td>2019-09-26 13:55:26</td>\n",
              "      <td>\"تَعلّم كيف تتعلم\" \\n\\nمقال للمدرب القيادي @ed...</td>\n",
              "      <td>64</td>\n",
              "      <td>N/A</td>\n",
              "      <td>False</td>\n",
              "      <td>Tweet</td>\n",
              "    </tr>\n",
              "    <tr>\n",
              "      <th>361</th>\n",
              "      <td>1178775319647383557</td>\n",
              "      <td>2019-09-30 20:55:11</td>\n",
              "      <td>مقال يوضح الفرق بين عالم البيانات و المبرمج\\n\\...</td>\n",
              "      <td>63</td>\n",
              "      <td>N/A</td>\n",
              "      <td>False</td>\n",
              "      <td>Tweet</td>\n",
              "    </tr>\n",
              "    <tr>\n",
              "      <th>984</th>\n",
              "      <td>1120465980617056258</td>\n",
              "      <td>2019-04-22 23:14:41</td>\n",
              "      <td>المادة الأساسية:\\n\"تعلم الآلة\" من @AndrewYNg ل...</td>\n",
              "      <td>63</td>\n",
              "      <td>yakhoja</td>\n",
              "      <td>False</td>\n",
              "      <td>Tweet</td>\n",
              "    </tr>\n",
              "    <tr>\n",
              "      <th>1442</th>\n",
              "      <td>1060050468150231041</td>\n",
              "      <td>2018-11-07 06:05:01</td>\n",
              "      <td>بالنسبة للاختبارات القياسية\\n1) سجل مبكرا لتضم...</td>\n",
              "      <td>63</td>\n",
              "      <td>yakhoja</td>\n",
              "      <td>False</td>\n",
              "      <td>Tweet</td>\n",
              "    </tr>\n",
              "    <tr>\n",
              "      <th>769</th>\n",
              "      <td>1133833610212007936</td>\n",
              "      <td>2019-05-29 20:32:52</td>\n",
              "      <td>@NabilAlnoor مجموعة من الردود ذكرت #شبكات_البي...</td>\n",
              "      <td>63</td>\n",
              "      <td>NabilAlnoor</td>\n",
              "      <td>False</td>\n",
              "      <td>Reply</td>\n",
              "    </tr>\n",
              "    <tr>\n",
              "      <th>588</th>\n",
              "      <td>1166000920141844481</td>\n",
              "      <td>2019-08-26 14:54:17</td>\n",
              "      <td>في هذا الفيديو نأخذ رحلة داخل مقصورة سيارة ذات...</td>\n",
              "      <td>63</td>\n",
              "      <td>N/A</td>\n",
              "      <td>False</td>\n",
              "      <td>Tweet</td>\n",
              "    </tr>\n",
              "    <tr>\n",
              "      <th>806</th>\n",
              "      <td>1129997707936878592</td>\n",
              "      <td>2019-05-19 06:30:22</td>\n",
              "      <td>الآن موسم خطب التخرج الملهمة التي تجدد النشاط ...</td>\n",
              "      <td>62</td>\n",
              "      <td>N/A</td>\n",
              "      <td>False</td>\n",
              "      <td>Tweet</td>\n",
              "    </tr>\n",
              "    <tr>\n",
              "      <th>472</th>\n",
              "      <td>1171944130051657729</td>\n",
              "      <td>2019-09-12 00:30:28</td>\n",
              "      <td>أعدت استعمال نفس نموذج تصنيف الكزبرة و البقدون...</td>\n",
              "      <td>62</td>\n",
              "      <td>N/A</td>\n",
              "      <td>False</td>\n",
              "      <td>Tweet</td>\n",
              "    </tr>\n",
              "    <tr>\n",
              "      <th>379</th>\n",
              "      <td>1177868823254331392</td>\n",
              "      <td>2019-09-28 08:53:05</td>\n",
              "      <td>في الختام\\n\\nمقولة جميلة تعلمتها من رئيسنا في ...</td>\n",
              "      <td>60</td>\n",
              "      <td>yakhoja</td>\n",
              "      <td>False</td>\n",
              "      <td>Tweet</td>\n",
              "    </tr>\n",
              "    <tr>\n",
              "      <th>1108</th>\n",
              "      <td>1111506268202500096</td>\n",
              "      <td>2019-03-29 05:51:59</td>\n",
              "      <td>حاجتين جديرة بالذكر\\n١) تم رفضي من ستانفورد لم...</td>\n",
              "      <td>60</td>\n",
              "      <td>N/A</td>\n",
              "      <td>False</td>\n",
              "      <td>Tweet</td>\n",
              "    </tr>\n",
              "    <tr>\n",
              "      <th>537</th>\n",
              "      <td>1170698943920951296</td>\n",
              "      <td>2019-09-08 14:02:33</td>\n",
              "      <td>بالنسبة للبرمجة، فكان ابسط جزء خلاف ما قد يتوق...</td>\n",
              "      <td>60</td>\n",
              "      <td>yakhoja</td>\n",
              "      <td>False</td>\n",
              "      <td>Tweet</td>\n",
              "    </tr>\n",
              "    <tr>\n",
              "      <th>215</th>\n",
              "      <td>1186892077587554304</td>\n",
              "      <td>2019-10-23 06:28:17</td>\n",
              "      <td>٢) صعوبة بعض متطلبات التقديم\\n\\nطريقة التقديم ...</td>\n",
              "      <td>56</td>\n",
              "      <td>yakhoja</td>\n",
              "      <td>False</td>\n",
              "      <td>Tweet</td>\n",
              "    </tr>\n",
              "    <tr>\n",
              "      <th>533</th>\n",
              "      <td>1170698953936867334</td>\n",
              "      <td>2019-09-08 14:02:35</td>\n",
              "      <td>بالختام\\nأدعوكم لنسخ مجموعة البيانات و الكود و...</td>\n",
              "      <td>55</td>\n",
              "      <td>yakhoja</td>\n",
              "      <td>False</td>\n",
              "      <td>Tweet</td>\n",
              "    </tr>\n",
              "    <tr>\n",
              "      <th>88</th>\n",
              "      <td>1194849963290873856</td>\n",
              "      <td>2019-11-14 05:30:05</td>\n",
              "      <td>قصة ملهمة!\\n١) جون موفات بدأ كرسام\\n٢) علم نفس...</td>\n",
              "      <td>55</td>\n",
              "      <td>N/A</td>\n",
              "      <td>False</td>\n",
              "      <td>Tweet</td>\n",
              "    </tr>\n",
              "    <tr>\n",
              "      <th>954</th>\n",
              "      <td>1121490816227139584</td>\n",
              "      <td>2019-04-25 19:07:01</td>\n",
              "      <td>مقال جديد من آندري كارباتي (مدير الذكاء الاصطن...</td>\n",
              "      <td>54</td>\n",
              "      <td>N/A</td>\n",
              "      <td>False</td>\n",
              "      <td>Tweet</td>\n",
              "    </tr>\n",
              "    <tr>\n",
              "      <th>298</th>\n",
              "      <td>1181496538578571264</td>\n",
              "      <td>2019-10-08 09:08:20</td>\n",
              "      <td>الويك اند الماضي قضينا اليوم على احد شواطئ سان...</td>\n",
              "      <td>53</td>\n",
              "      <td>N/A</td>\n",
              "      <td>False</td>\n",
              "      <td>Tweet</td>\n",
              "    </tr>\n",
              "    <tr>\n",
              "      <th>1159</th>\n",
              "      <td>1106159005439680512</td>\n",
              "      <td>2019-03-14 11:43:52</td>\n",
              "      <td>بودكاست اكثر من رائع من Planet Money\\n\\nتحكي ق...</td>\n",
              "      <td>53</td>\n",
              "      <td>N/A</td>\n",
              "      <td>False</td>\n",
              "      <td>Tweet</td>\n",
              "    </tr>\n",
              "    <tr>\n",
              "      <th>109</th>\n",
              "      <td>1192675620746072064</td>\n",
              "      <td>2019-11-08 05:30:01</td>\n",
              "      <td>مقال عميق يبدأ بآثار الحرب العالمية الثانية عل...</td>\n",
              "      <td>52</td>\n",
              "      <td>N/A</td>\n",
              "      <td>False</td>\n",
              "      <td>Tweet</td>\n",
              "    </tr>\n",
              "    <tr>\n",
              "      <th>548</th>\n",
              "      <td>1170036775344955392</td>\n",
              "      <td>2019-09-06 18:11:20</td>\n",
              "      <td>3 اوجه شبه من تجربتي الشخصية بين البرمجة و الن...</td>\n",
              "      <td>52</td>\n",
              "      <td>N/A</td>\n",
              "      <td>False</td>\n",
              "      <td>Tweet</td>\n",
              "    </tr>\n",
              "  </tbody>\n",
              "</table>\n",
              "</div>"
            ],
            "text/plain": [
              "                       id           created_at  ... retweeted   type\n",
              "985   1120465979723649026  2019-04-22 23:14:41  ...     False  Tweet\n",
              "111   1192276908521787392  2019-11-07 03:05:41  ...     False  Tweet\n",
              "103   1193436702032818177  2019-11-10 07:54:17  ...     False  Tweet\n",
              "459   1172891741063544833  2019-09-14 15:15:57  ...     False  Tweet\n",
              "98    1194125191665897472  2019-11-12 05:30:06  ...     False  Tweet\n",
              "89    1194766231355609088  2019-11-13 23:57:21  ...     False  Tweet\n",
              "538   1170698934081032192  2019-09-08 14:02:31  ...     False  Tweet\n",
              "1120  1111377439656050688  2019-03-28 21:20:04  ...     False  Tweet\n",
              "592   1164339423913267200  2019-08-22 00:52:05  ...     False  Tweet\n",
              "83    1195374534079025152  2019-11-15 16:14:32  ...     False  Tweet\n",
              "142   1191588647801364481  2019-11-05 05:30:46  ...     False  Tweet\n",
              "1017  1116851015511187456  2019-04-12 23:50:06  ...     False  Tweet\n",
              "239   1183446946075181058  2019-10-13 18:18:33  ...     False  Tweet\n",
              "927   1124422626875592704  2019-05-03 21:16:59  ...     False  Tweet\n",
              "910   1125502090418069505  2019-05-06 20:46:23  ...     False  Tweet\n",
              "439   1173920336611594242  2019-09-17 11:23:13  ...     False  Tweet\n",
              "1438  1060050474085187584  2018-11-07 06:05:02  ...     False  Tweet\n",
              "151   1191241377444696064  2019-11-04 06:30:51  ...     False  Tweet\n",
              "979   1120465986006679553  2019-04-22 23:14:42  ...     False  Tweet\n",
              "803   1130240779924852736  2019-05-19 22:36:15  ...     False  Tweet\n",
              "85    1195212334211518465  2019-11-15 05:30:01  ...     False  Tweet\n",
              "566   1169124307945099269  2019-09-04 05:45:30  ...     False  Tweet\n",
              "310   1180546122571370496  2019-10-05 18:11:43  ...     False  Tweet\n",
              "602   1163903884932206593  2019-08-20 20:01:25  ...     False  Tweet\n",
              "622   1140984413188001798  2019-06-18 14:07:37  ...     False  Tweet\n",
              "1353  1082761793657683968  2019-01-08 22:11:43  ...     False  Tweet\n",
              "1189  1104355554535718918  2019-03-09 12:17:36  ...     False  Tweet\n",
              "431   1174444278283526144  2019-09-18 22:05:10  ...     False  Tweet\n",
              "687   1137247430305443840  2019-06-08 06:38:11  ...     False  Tweet\n",
              "1016  1116873946643591169  2019-04-13 01:21:14  ...     False  Reply\n",
              "785   1133804547137081344  2019-05-29 18:37:23  ...     False  Tweet\n",
              "394   1177220135976722432  2019-09-26 13:55:26  ...     False  Tweet\n",
              "361   1178775319647383557  2019-09-30 20:55:11  ...     False  Tweet\n",
              "984   1120465980617056258  2019-04-22 23:14:41  ...     False  Tweet\n",
              "1442  1060050468150231041  2018-11-07 06:05:01  ...     False  Tweet\n",
              "769   1133833610212007936  2019-05-29 20:32:52  ...     False  Reply\n",
              "588   1166000920141844481  2019-08-26 14:54:17  ...     False  Tweet\n",
              "806   1129997707936878592  2019-05-19 06:30:22  ...     False  Tweet\n",
              "472   1171944130051657729  2019-09-12 00:30:28  ...     False  Tweet\n",
              "379   1177868823254331392  2019-09-28 08:53:05  ...     False  Tweet\n",
              "1108  1111506268202500096  2019-03-29 05:51:59  ...     False  Tweet\n",
              "537   1170698943920951296  2019-09-08 14:02:33  ...     False  Tweet\n",
              "215   1186892077587554304  2019-10-23 06:28:17  ...     False  Tweet\n",
              "533   1170698953936867334  2019-09-08 14:02:35  ...     False  Tweet\n",
              "88    1194849963290873856  2019-11-14 05:30:05  ...     False  Tweet\n",
              "954   1121490816227139584  2019-04-25 19:07:01  ...     False  Tweet\n",
              "298   1181496538578571264  2019-10-08 09:08:20  ...     False  Tweet\n",
              "1159  1106159005439680512  2019-03-14 11:43:52  ...     False  Tweet\n",
              "109   1192675620746072064  2019-11-08 05:30:01  ...     False  Tweet\n",
              "548   1170036775344955392  2019-09-06 18:11:20  ...     False  Tweet\n",
              "\n",
              "[50 rows x 7 columns]"
            ]
          },
          "metadata": {
            "tags": []
          },
          "execution_count": 11
        }
      ]
    },
    {
      "cell_type": "code",
      "metadata": {
        "id": "hwqNc_udJ-EU",
        "colab_type": "code",
        "outputId": "48a1377b-84d1-42e9-d52c-903af01ae030",
        "colab": {
          "base_uri": "https://localhost:8080/",
          "height": 541
        }
      },
      "source": [
        "plot_data = tweets[tweets.type == \"Tweet\"]\n",
        "plot_data = plot_data[['id','created_at','likes']]\n",
        "plot_data['time'] = plot_data['created_at'].apply(lambda x: datetime.strptime(x, '%Y-%m-%d %H:%M:%S'))\n",
        "\n",
        "fig, (ax1, ax2) = plt.subplots(1, 2, figsize=(16,6))\n",
        "fig.suptitle('Tweets vs. Likes Received')\n",
        "ax1.scatter(plot_data.time, plot_data.likes)\n",
        "ax2.scatter(plot_data.time, plot_data.likes)\n",
        "left = date(2018, 10, 1)\n",
        "right = date(2020, 1, 1)\n",
        "ax2.set_xlim(left=left, right=right);"
      ],
      "execution_count": 8,
      "outputs": [
        {
          "output_type": "stream",
          "text": [
            "/usr/local/lib/python3.6/dist-packages/pandas/plotting/_matplotlib/converter.py:103: FutureWarning: Using an implicitly registered datetime converter for a matplotlib plotting method. The converter was registered by pandas on import. Future versions of pandas will require you to explicitly register matplotlib converters.\n",
            "\n",
            "To register the converters:\n",
            "\t>>> from pandas.plotting import register_matplotlib_converters\n",
            "\t>>> register_matplotlib_converters()\n",
            "  warnings.warn(msg, FutureWarning)\n"
          ],
          "name": "stderr"
        },
        {
          "output_type": "display_data",
          "data": {
            "image/png": "[encoded data removed]",
            "text/plain": [
              "<Figure size 1152x432 with 2 Axes>"
            ]
          },
          "metadata": {
            "tags": []
          }
        }
      ]
    },
    {
      "cell_type": "markdown",
      "metadata": {
        "id": "1C5bWZ1FTtbG",
        "colab_type": "text"
      },
      "source": [
        "#Analyzing followers\n",
        "\n"
      ]
    },
    {
      "cell_type": "markdown",
      "metadata": {
        "id": "BF5IK6bqF3QU",
        "colab_type": "text"
      },
      "source": [
        "##Load Saved data from Google Drive"
      ]
    },
    {
      "cell_type": "code",
      "metadata": {
        "id": "mjJrfyMaMJSm",
        "colab_type": "code",
        "colab": {}
      },
      "source": [
        "followers = pd.read_json(path + 'followers_data.json') # Followers User ojbects"
      ],
      "execution_count": 0,
      "outputs": []
    },
    {
      "cell_type": "code",
      "metadata": {
        "id": "tof-bOWpMcsQ",
        "colab_type": "code",
        "colab": {}
      },
      "source": [
        "df = followers\n",
        "\n",
        "df = df.fillna('Empty')\n",
        "\n",
        "df = df.replace('','Empty')"
      ],
      "execution_count": 0,
      "outputs": []
    },
    {
      "cell_type": "code",
      "metadata": {
        "id": "wvH5ixCTRWIu",
        "colab_type": "code",
        "cellView": "both",
        "outputId": "a5c8448a-6a7f-4e39-d064-d8a906125e0d",
        "colab": {
          "base_uri": "https://localhost:8080/",
          "height": 52
        }
      },
      "source": [
        "# Create list of tags to identify each location\n",
        "saudi_tags = ['saudi', 'ksa', 'riyadh', 'jeddah', 'makkah', 'madina', 'dammam', 'khobar', 'السعودية', 'السعوديه', 'جدة', 'الرياض', 'الدمام', 'neom', 'eastern', 'riyad', 'riydah', 'med', 'jed',\n",
        "              'jubail', 'المدينة', 'ابها', 'مكة', 'sa', 'k.s.a', 'qatif', 'medina', 'tabuk', 'dhahran', 'abha', 'hail', 'qassim', 'mecca', 'ruh', 'buraydah', 'الخبر', 'الشرقية', 'الحجاز', 'بريدة', 'القصيم', 'المملكة العربية', 'جده', 'مكه',\n",
        "              'الحد_الجنوبي', 'الحرمين', 'نجد', 'الرّس', 'j town', 'جازان', 'unayzah', 'الخُبر', 'الظهران', 'تبوك', 'حائل', 'طيبة', 'المجمعة', 'yanbu', 'taif', 'baljurashi', 'الأحساء', 'jeedah', '966', 'suudi', 'أملج', 'اللهم احفظ بلادي', 'الجبيل',\n",
        "              'سعودية', 'ينبع', 'ryiadh', 'الطائف', 'jdh', 'Alkharj', 'طويق', 'الباحة', 'أم الملح', 'Al Badai', 'البدائع', 'الدرعيه', 'к.ѕ.α', 'المنوره', 'Abu Arish', 'Alkhober', 'rio', '🇸🇦', 'ام الملح', 'فوق هام السحب']\n",
        "\n",
        "gulf_tags = ['uae', 'kuwait', 'qatar', 'yemen', 'oman', 'bahrain', 'اليمن', 'الإمارات', 'الكويت', 'قطر', 'البحرين', 'عمان', 'abu dhabi', 'q8', 'الجزيره',\n",
        "             'dubai', 'الامارات', 'مسقط', 'شبه الجزيرة', 'جزيرة العرب', 'al ain', 'kwt', 'u.a.e', 'حضرموت', 'alain', 'arabian island']\n",
        "\n",
        "mena_tags = ['egypt', 'مصر', 'libya', 'ليبيا', 'iraq', 'العراق', 'sudan', 'syria', 'jordan', 'الأردن', 'morocco', 'tunisia',\n",
        "             'algeria', 'mauritania', 'palestine', 'فلسطين', 'cairo', 'gaza', 'الوطن العربي', 'Algiers', 'Marrakech', 'Mansoura', 'Algérie', 'amman', 'rafah', 'الاردن', 'لبنان', 'غزة', 'egy', 'eg', 'سوريا', 'حلب', 'الجزائر',\n",
        "             'khartoum', 'tunis', 'الإسكندرية', 'السودان', 'lebanon', 'irbid', 'Touggourt', 'ramallah', 'سطيف', 'عمّـان', 'الأسكندرية', 'العالم الإسلامي', 'بلد المليون شهيد', 'MENA']\n",
        "\n",
        "us_tags = ['us', 'united', 'states', 'usa', 'أمريكا', 'los angeles', 'NY', 'IL', 'DC', 'boston', 'stanford', 'philadelphia', 'CT', 'new orleans', 'miami', 'u.s.a', 'omaha',\n",
        "           'new york', 'manhattan', 'mn', 'menlo park', 'wa', 'az', 'sf', 'tx', 'pa', 'or', 'portola valley', 'bay area', 'cambridge', 'va', 'fl', 'ga', 'lincoln', 'irvine', 'detroit', 'halifax',\n",
        "           'ohio', 'nm', 'تكساس', 'co', 'oh', 'nc', 'الامريكية', 'cypress', '92108', 'West Lafayette', 'Utah']\n",
        "\n",
        "uk_tags = ['uk', 'london', 'leeds', 'new castle', 'manchester', 'liverpool', 'england', 'ireland', 'scotland', 'glasgow']\n",
        "\n",
        "euro_tags = ['paris', 'france', 'spain', 'munich', 'italy', 'netherlands', 'nederland', 'Deutschland', 'germany', 'berlin', 'finland', 'switzerland', 'sweden', 'stuttgart', 'Malmö', 'Sverige', 'Rotterdam']\n",
        "\n",
        "canada_tags =['canada', 'british columbia', 'ontario', 'Montréal', 'calgary']\n",
        "\n",
        "turkey_tags =['turkey', 'Türkiye']\n",
        "\n",
        "# Create logical masks to clean up data\n",
        "saudi = df.location.str.contains('|'.join(saudi_tags), case=False)\n",
        "gulf = df.location.str.contains('|'.join(gulf_tags), case=False)\n",
        "mena = df.location.str.contains('|'.join(mena_tags), case=False)\n",
        "us = df.location.str.contains('|'.join(us_tags), case=False)\n",
        "uk = df.location.str.contains('|'.join(uk_tags), case=False)\n",
        "euro = df.location.str.contains('|'.join(euro_tags), case=False)\n",
        "canada = df.location.str.contains('|'.join(canada_tags), case=False)\n",
        "turkey = df.location.str.contains('|'.join(turkey_tags), case=False)\n",
        "empty = df.location.str.contains('Empty')\n",
        "other = saudi | gulf | mena | us | uk | euro | canada | turkey | empty\n",
        "other = ~other\n",
        "\n",
        "# Clean up data\n",
        "df.loc[gulf, 'location'] = 'Gulf'\n",
        "df.loc[mena, 'location'] = 'MENA'\n",
        "df.loc[us, 'location'] = 'US'\n",
        "df.loc[uk, 'location'] = 'UK'\n",
        "df.loc[euro, 'location'] = 'Europe'\n",
        "df.loc[canada, 'location'] = 'Canada'\n",
        "df.loc[turkey, 'location'] = 'Turkey'\n",
        "df.loc[saudi, 'location'] = 'Saudi Arabia'\n",
        "df.loc[empty, 'location'] = 'Empty'\n",
        "df.loc[other, 'location'] = 'Other'\n",
        "\n",
        "print('Number of unique locations before clean up: ' + str(len(followers.location.unique())))\n",
        "print('Number of unique locations after clean up: ' + str(len(df.location.unique())))"
      ],
      "execution_count": 0,
      "outputs": [
        {
          "output_type": "stream",
          "text": [
            "Number of unique locations before clean up: 2281\n",
            "Number of unique locations after clean up: 10\n"
          ],
          "name": "stdout"
        }
      ]
    },
    {
      "cell_type": "code",
      "metadata": {
        "id": "NHjuvDbeUpbv",
        "colab_type": "code",
        "outputId": "47fdc6e6-72a1-430a-d26e-93a86fb5e141",
        "colab": {
          "base_uri": "https://localhost:8080/",
          "height": 277
        }
      },
      "source": [
        "print('Total number of followers: {}\\n'.format(len(followers)))\n",
        "\n",
        "print('Followers by')\n",
        "df.groupby('location').count().sort_values('id',ascending=False).id"
      ],
      "execution_count": 0,
      "outputs": [
        {
          "output_type": "stream",
          "text": [
            "Total number of followers: 9927\n",
            "\n",
            "Followers by\n"
          ],
          "name": "stdout"
        },
        {
          "output_type": "execute_result",
          "data": {
            "text/plain": [
              "location\n",
              "Empty           4446\n",
              "Saudi Arabia    3654\n",
              "US               617\n",
              "Other            609\n",
              "MENA             239\n",
              "Gulf             164\n",
              "UK               100\n",
              "Europe            56\n",
              "Canada            24\n",
              "Turkey            18\n",
              "Name: id, dtype: int64"
            ]
          },
          "metadata": {
            "tags": []
          },
          "execution_count": 18
        }
      ]
    },
    {
      "cell_type": "code",
      "metadata": {
        "id": "EGBVZtCnRHKF",
        "colab_type": "code",
        "outputId": "cc44b165-03ed-4005-84c8-56cfc239ce67",
        "colab": {
          "base_uri": "https://localhost:8080/",
          "height": 1000
        }
      },
      "source": [
        "# List the unique locations under Other\n",
        "\n",
        "ids = df[df.location == 'Other'].id\n",
        "followers[followers.id.isin(ids)].location.unique()"
      ],
      "execution_count": 0,
      "outputs": [
        {
          "output_type": "execute_result",
          "data": {
            "text/plain": [
              "array(['     ', 'Algerie', \"The sky's our limits\", 'The Sky', 'Ey',\n",
              "       'الشارقة', 'Atlanta', 'Sky', 'unbounded ', 'Web',\n",
              "       'Tanger - Tétouan, Royaume du M', 'Ras Tannurah',\n",
              "       'التواصل والأسعـــــار والنماذج والتفاصيل في وتساب فقط 00971505673307',\n",
              "       'Snapchat: rbdis', '( إلى ربك يومئذ المستقر ) ',\n",
              "       'بين صفحات العروض ..', 'ارض الريتويت', 'Kosovo', 'Kalba',\n",
              "       '(Transit in الدنيا)', 'EVERYWhere', ' Planet Earth',\n",
              "       'ولكم في الأرض مستقر', 'الاحق رزقي', 'KAU',\n",
              "       'هدفي في الحياة رضا الله اولا ', '.', '127.0.0.1',\n",
              "       'كوكب الأرض حالياً', '♫', '  ', 'Home', 'Riydh',\n",
              "       'in middle of nowhere', 'يارب رُدني إليك رداً جميلا', '🎼',\n",
              "       'واق الواق', 'Somewhere on planet EARTH.', '“قدر قيمة الحياة.”',\n",
              "       'My Room ', 'earth', 'Microsoft', 'في غمرة العابرين!', '210 | 512',\n",
              "       'Earth ', 'over there', 'Online💡', 'Think Different',\n",
              "       'Here, There and Everywhere', 'Honolulu, HI', 'Neverland',\n",
              "       'من #زمن_الطيبين ', 'في ربوع وطني', '\\U0001f9e0',\n",
              "       ' \" لا أبرحُ حتى أبلغَ \"', '24.580291,46.674957', 'no where',\n",
              "       'Somewhere ', 'GYM', 'استغفر الله وأتوب إليه ..', 'Homeland',\n",
              "       'رنيه الفيحاء ', 'Earth', 'أبها وخميس مشيط ',\n",
              "       'حيثُ يوجد السلام..!', 'Chicago ', '#العاصمة_المقدسة_بجوار_الحرم',\n",
              "       '👨🏻\\u200d💻', 'choose love ', 'ـ', 'الجيزة', 'أرض الله الواسعة ',\n",
              "       'Loop, Chicago', '12/12/1995', 'جُدة', 'بقلب امي ❤️', 'زمرد ',\n",
              "       'Yharnam', '#Libra♎️. ', 'كلومبو', 'سيناء', 'الصراط المستقيم',\n",
              "       'NOWHERE', 'هنا ', 'Mumbai, India ', 'استغفرالله.', 'زحل', 'ضايع',\n",
              "       'Green Land', 'Montreal', ' ', 'الأرض',\n",
              "       \"N 15°22' 0'' / E 44°10' 0''\", 'الشارقة ', 'YE-Hadhrmut-Syoun',\n",
              "       'la la land ', 'المملكة المغربية', 'Royaume du Maroc🇲🇦', 'بهلا ',\n",
              "       'الخرمه', 'في أرض الله الواسعة ', 'ما دامت الحياة يبقى الأمل ',\n",
              "       'الاحساء', 'على قيد الحُلم والشغف ', 'مدينه رياض', 'تحت التدريب',\n",
              "       'حيثما أسجد لله', 'العاصمة', 'Dallas, Texas', 'Internet', 'Here',\n",
              "       'central perk', 'سُرادِق العَقل', 'Now I’m There', 'خليجي 🇰🇼',\n",
              "       'GCC', 'PS', 'Kl Malaysia', 'Somewhere in this planet',\n",
              "       'Home is where the heart is ❤', 'Rooftop',\n",
              "       'S A U D I   A R A B I A', 'بلادي اللي في قلبي', 'Global Citizen🌏',\n",
              "       '❤', 'كل الدنيا', 'In CS', 'Kuala Lumpur', 'هل ترانا؟ هل نراك؟',\n",
              "       'MARS 🌕', 'بالطريق إلى حلم آخر', 'Taibah', 'The Globe', 'yamen',\n",
              "       'شرق البلاد الوسيعة ', 'Tallinn, Estonia', 'الحياة الدنيا',\n",
              "       'في كنف الله💕', 'Noida, India', 'Indianapolis, IN', 'دار الخير',\n",
              "       'الخُبَر', 'TBA', 'فوق الأرض مؤقتا ', '🏢🏭', 'Empire, CA', '   ',\n",
              "       'Universe', 'أضرب ف الأرض ابتغي من فضل الله', 'Arabia',\n",
              "       'مونتريال - كندا', 'No where', 'la la land',\n",
              "       'Kuala Lumpur City, Kuala Lumpu', '#CGU',\n",
              "       'استغفر الله العظيم وأتوب إليه ', 'not the planet earth', 'Al Ula',\n",
              "       'Unknown', 'في قطار لا يتوقفْ', 'ربِ هب لي من تخيلاتي واقعاً *̠',\n",
              "       'وأمرهم شورى بينهم ', 'قِف على ناصية الحُلم و قاتِل!', '.....',\n",
              "       'Kyrgyzstan', 'بين حنين الماضي وحلم المستقبل ', 'iN Your Dreams',\n",
              "       'عدن', 'محمد الحربي...(هوايات متعددة)', 'Mars', 'In my place',\n",
              "       'في الفلك', 'Snapchat: D7oominho🎖', 'Loyola University Chicago',\n",
              "       'India', 'الشبكة العنكبوتية', 'اللهم آجعل همي ,الآخرة', 'Tubas',\n",
              "       'Brooklyn', 'Bleach', '🌌', 'نادي النصر طبعاً', 'Everywhere 🌍',\n",
              "       'بقلب أبي💛', 'ｙａｓｓｉｎｅ', 'EARTH ', 'على قدر حلمك... تتسع الأرض',\n",
              "       'Birmingham, AL', 'في قلب #العالمي', 'حول العالم', 'أم دودي',\n",
              "       'كوخ في عمق الغابة 🏚🌲', 'صمت', 'Everywhere ', 'snapchat : fahod4',\n",
              "       'ღ ججدّهـ ', 'Masdar City', 'قلب الصحراء،،', 'AD', 'Gotham ',\n",
              "       'Hamburg', 'بعيداً عن الزحام', 'Planet', 'هنا وهناك ', '❤️❤️',\n",
              "       'global', 'عرعر', 'وسط المعمعة', 'الرستاق', 'mauritanie',\n",
              "       'كوكب الارض', 'السويد', 'قارا_ الجوف', 'الواقع الإفتراضي.',\n",
              "       ' فوق الارض مؤقتاً', 'جيزان ', 'بلاد الاسلام',\n",
              "       'فى الدنيا حتى يقضى الله امرا', 'هوفيه مثل{قلبگ بيآض}يآلريآض؟',\n",
              "       'Between dream and achievement', 'Banana Republic', 'تمبول',\n",
              "       'sdsScrns', 'في قلب سعوديتنآ ', 'زيورخ', 'ورى ظهر النهار', '🛰',\n",
              "       ' أفكارك لك لكن أقوالك لغيرك', 'بلاد العرب اوطاني', '💓',\n",
              "       'Earth Planet', 'Somalia', 'الحساب ليس للاستشارات..',\n",
              "       '                         ❸ⓣⓠ❶❸', ' جنب الشاحن ',\n",
              "       'طريق صلاح الدين الايوبي،الملز', 'Malaysia - KL', 'الخرطوم',\n",
              "       'Here, There & Everywhere', '512-Bit_C8991, R18', '127.0 .0.1',\n",
              "       'لا إله إلا الله', 'السويدي', 'في كبد', '🇦🇪🇵🇸',\n",
              "       'Najran - Najran University', '. ', 'suadiArabai', 'القنفذة',\n",
              "       'المريخ', 'C-137', 'Novigrad', '🇦🇪',\n",
              "       ' أحبكم الى الله انفعكم للناس', 'Planet Earth',\n",
              "       \"I don't like being followed.\", 'I live in the Internet',\n",
              "       'Not everywhere.', 'ربي احسن رحيلي إن حان وقته ', '_',\n",
              "       'بين السهول والرمال ', 'مدغشقر', 'Malaysia', 'خلفك ! - عنيزة',\n",
              "       '﴿لا أبرح حتى أبلغ﴾', 'مَكّةُ الْمُكَرّمَة',\n",
              "       'الارض وطني الاول والاخير', 'اعلى من الغيم إشراقاً.وبي أملٌ',\n",
              "       '16.972357,42.812169', 'العالم البائس', '¯\\\\_(ツ)_/¯',\n",
              "       'عميق الذاكرة.. زوايا الحلم!!', 'Everywhere', ' 🔛 ',\n",
              "       'techiebits.net', 'The peaceful land', 'at 127.0.0.1 😌🌚', '~/',\n",
              "       'Under Ground', 'Assuit', 'no where ', 'كوكب دري وهابي',\n",
              "       '21.4417,39.797652', 'Somewhere', 'دكتوراه علم البيئة والتلوث',\n",
              "       'ココ', 'المحيط ', 'لا يوجد ', 'استغفر الله ',\n",
              "       '🇵 ☕⚘🗺🎶🎙📸📚🤖 Digitalista ', '• iNstagram: @ishr0', 'خَلفَ البَابْ',\n",
              "       'لاجئ ف أي مكان فيه فيشه ونت 😂', 'Planet Earth 🌍🌌',\n",
              "       'Possibly the pub', 'في كوكب الارض', 'خضراء حجر', '٨',\n",
              "       'Castle Oblivion', 'Somewhere near the earth', 'not here', 'لبقآع',\n",
              "       'Quantum Field', 'dimension c-137', '\\U0001f9e1', '\\uf8ff',\n",
              "       'Happiness', 'أرض بلا شعب', ' ♥بعيداً حيث الانسانيه', 'Got',\n",
              "       'اللهّم اغفر لنا ذنوبنا', '~My own happy kingdom~',\n",
              "       'la vie est belle', 'She/Her', 'My Mind', 'Du', 'Mars ',\n",
              "       'Your MIND', 'On My Desktop', 'بيتنا', '♀\\xa0Ⓥ ♪ ☮ ',\n",
              "       'Right here..', 'Kernel ', 'دلوية ', '💌', 'المكان المقابل',\n",
              "       '               ً.           ', 'في لطف الله وستره ✨', 'universe',\n",
              "       'Global', 'Jakarta Indonesia', '♏', 'Aden', 'الشرقي',\n",
              "       'كل بلدان المسلمين خاص والعالم ', 'Stage!',\n",
              "       'العالم هو مكاني الفسيح', 'Self deveopment | Books ', 'SomeWhere',\n",
              "       '24.457609,39.643119', 'NoWhere', 'في اعظم بقعة', 'الرامي أ*',\n",
              "       'انا حيث انا', 'أبعد زاوية من زوايا العالم', 'Thoughts',\n",
              "       'Global Citizen', 'بين هذا وذاك', 'around', 'الأرض المباركه.',\n",
              "       'Trento, Trentino-Alto Adige', 'Atlantis', 'بالأرض',\n",
              "       ' (إنّ لِي نفساً تَواقة)', 'In the earth ', '🌍', 'Laniakea',\n",
              "       'Snapchat:', '🌎 ', 'somewhere ', 'السماء السابعه..', '404',\n",
              "       'Brisbane, Queensland', '#NFC', 'ionia',\n",
              "       'Alger                         ', 'مقهى فاروق..*', 'Online',\n",
              "       'مر على قناتي تجد الكثير👇', 'لبعيد ..', 'نفس المكان', '🇴🇲🖤',\n",
              "       'دائماً فوق الغيوم', 'الاطلس ', 'بيت أبو ابراهيم ', 'Nearby', '🎗',\n",
              "       'sydney', 'اللهم اسعدنا بطاعتك', 'بالصالون', 'The globe',\n",
              "       'الإرتقاء المعرفي', 'Among The Stars!', 'In thd cloud', 'قلب امي ',\n",
              "       'مجرة درب التبّانة', '... ', 'Never Settled', 'حيث أمرع البلقع ',\n",
              "       '🌏 ', 'Hiro', 'في مكان ما على سطح الارض ', 'سوق العمل',\n",
              "       'خارج نطاق الراحة ', 'لا إله إلا الله ', 'اللهم آمنا في اوطاننا ',\n",
              "       'Snapchat: m7mdbederi', ' في قلب أحبابي',\n",
              "       'instagram, snapchat : mo7mmadx', 'Mars ♋️ ', 'Snap: LLOYEDS ',\n",
              "       'home', 'استغفر الله', 'Globe', 'حيثما تكون أكون ',\n",
              "       'Douala-Cameroon', 'المدونة', 'online', 'JD', 'أرض الرسالة',\n",
              "       'snap: a_alshetwi', 'المشاعر والأحاسيس ', 'أعيشُ بِـ مَنفى !',\n",
              "       'أبحث عن وطن ', 'كوكب الأرض', 'Shit Land', 'حساب ساخر',\n",
              "       '🔖Ambition.', 'ادعموا وسم #وقف', 'ÜT: 26.3922152,43.9587574',\n",
              "       'Västerås', 'Under Kármán line', 'ارض الله الواسعه', 'Peace',\n",
              "       'Earth 🌐 ', 'بين الأرض والسماء', 'Earth Dimension C-137', 'حيدان',\n",
              "       'ماوصف الجنة .. إلا و دمشق مثله', 'الشمال الشرقي', '/root/',\n",
              "       'Unspecified', 'عَرَبي ـ  بيتُ الحِكمة   ', 'Maadi',\n",
              "       '! على هذه البسيطة', 'Itay elbarod,El behera,',\n",
              "       '24.761787,46.705305', 'وتستمر الحياه ', 'في الاحلام',\n",
              "       'تحت ظل تلك الشجرة', '🌍 ~ 🌐', 'سفينة نوح ',\n",
              "       'Home Is Where The Heart Is 🏠', '🌍✈️⭐️✨', 'Ten Dimensions',\n",
              "       'My bed', '# لـنـرتـقـي الـوقـتُ يـمـضـي', 'هنا ، بالقرب منك . ',\n",
              "       '((واتقوا الله ويعلمكم الله))', 'WF', 'out of the earth',\n",
              "       'Kingdom of Jahra 🏹', 'الروح في بلد والجسد في بلد',\n",
              "       'Planet Earth 🌍 ', 'univers', 'غرفتي', 'alRaki ♚', 'On Earth',\n",
              "       'under the shining star', 'In The Middle of No Where.',\n",
              "       'Somewhere under the rainbow \\ue20c', 'حيث السلام ', 'Oude pekela',\n",
              "       'الانسانية موطني', 'بعضي هنا والبعض الآخر هناك!', 'بحر الغدر',\n",
              "       'Linux OS', 'أعظم بلد 💚', 'pwd', 'Niger', 'ارض الله',\n",
              "       '25 September💛', 'Madison, WI', 'بلد التوحيد', 'أوروبا الجديدة',\n",
              "       '#رابطه_عشاق_العطور', 'TABADUL ', 'مدينة النخيل ', 'China, jinhua',\n",
              "       '@Jnrutr96 حسابي القديم', 'حيث توجد المعرفة', '\\u200fE=mc²',\n",
              "       'Kuala Lumpur City', 'nouakchott', 'WWW', 'Somewhere in my head ',\n",
              "       'غربة وطن', 'Univers', '🇰🇼 | MCR', 'The Drunken Clam', 'C.R.E.A.M',\n",
              "       'العالم', 'idk', 'مكاني أينما أكون ', 'الحمدلله', 'Dhofar',\n",
              "       'Buenos Aires', 'Clock Tower', 'Mars. ', 'بعيد شوي',\n",
              "       'حوران، مهد النخوة والكرم', 'Ibb', 'Current Address : Earth',\n",
              "       'بوابة المصادر المفتوحة', 'C', 'للحجز السريع للمواعيد الرابط :',\n",
              "       'here', 'بين شرق الجزيرة وغربها', 'مبادرة سناب مهارات البزنس',\n",
              "       'في دولة اسمها .. أمي ❤️', '1 AU', 'على وجهه هذه البسيطه',\n",
              "       'Ethiopia', '-في بيتنا-',\n",
              "       'وَأَنْ لَيْسَ لِلْإِنْسَانِ إِلَّا مَا سَعَى', 'On the Earth ',\n",
              "       'Cloud ☁️', 'Epoch 5', 'onEarth($event) ', 'مدينة المخفية في العج',\n",
              "       'Area 51 تاني نجمة عاليمين', 'localhost', 'Multiverse',\n",
              "       'Greater Accra, Ghana', 'here and there ..',\n",
              "       'استغفر الله العظيم من كل ذنوبي', 'On The internet', 'LHR ↔ KWI',\n",
              "       'Here & there', ': Inside & Outside the Lab :',\n",
              "       'Robot Tweeting & Retweeting', ' الزعيم الاسيوي ♡ ~', 'all in one'],\n",
              "      dtype=object)"
            ]
          },
          "metadata": {
            "tags": []
          },
          "execution_count": 42
        }
      ]
    },
    {
      "cell_type": "code",
      "metadata": {
        "id": "Vq2iWGfgKn7L",
        "colab_type": "code",
        "outputId": "787b03cc-54d8-4a4f-9880-e3653390c509",
        "colab": {
          "base_uri": "https://localhost:8080/",
          "height": 52
        }
      },
      "source": [
        "print(\"Number of followers who have more than 30k followers: {}\".format(len(df.loc[df.followers_count >= 3e4])))\n",
        "print('Number of verified followers: {}'.format(len(df[df.verified == True])))"
      ],
      "execution_count": 0,
      "outputs": [
        {
          "output_type": "stream",
          "text": [
            "Number of followers who have more than 30k followers: 58\n",
            "Number of verified followers: 31\n"
          ],
          "name": "stdout"
        }
      ]
    },
    {
      "cell_type": "markdown",
      "metadata": {
        "id": "EaGv0ePkydNz",
        "colab_type": "text"
      },
      "source": [
        "#Analyzing following\n"
      ]
    },
    {
      "cell_type": "markdown",
      "metadata": {
        "id": "m_QEthgyGf5R",
        "colab_type": "text"
      },
      "source": [
        "## Load Saved Data from Google Drive"
      ]
    },
    {
      "cell_type": "code",
      "metadata": {
        "id": "FIBYHyBHGivs",
        "colab_type": "code",
        "colab": {}
      },
      "source": [
        "following = pd.read_json(path + 'friends_data.json')       # Friends User ojbects"
      ],
      "execution_count": 0,
      "outputs": []
    },
    {
      "cell_type": "code",
      "metadata": {
        "id": "ikFi3Jy8ypmh",
        "colab_type": "code",
        "colab": {}
      },
      "source": [
        "df = following\n",
        "\n",
        "df = df.fillna('Empty')\n",
        "\n",
        "df = df.replace('','Empty')"
      ],
      "execution_count": 0,
      "outputs": []
    },
    {
      "cell_type": "code",
      "metadata": {
        "id": "Jbr2quj13906",
        "colab_type": "code",
        "colab": {}
      },
      "source": [
        "# Create list of tags to categorize following\n",
        "saudi_gov_url_tags =['.gov.sa', 'neom', 'qiddiya', '.sa', '.com.sa']\n",
        "saudi_gov_bio_tags = ['وزير', 'نائب مدير', 'وكيل', 'وزارة', 'محافظ', 'هيئة', 'مدير']\n",
        "academic_url_tags =['.edu']\n",
        "academic_bio_tags =['prof', 'professor', 'research', 'أستاذ']\n",
        "vc_tags =  ['fund', 'vc', 'partner', 'investor', 'venture', 'gp']\n",
        "ai_tags =  ['ai', 'ml', 'deep learning', 'machine learning', 'vision', 'keras', 'tensorflow', 'Data Scientist', 'Data Science', 'nlp', 'xgboost', 'علم البيانات']\n",
        "product_tags =  ['product', 'cpo', 'design', 'PM']\n",
        "fitness_tags = ['fitness', 'muscle', 'nba']\n",
        "ceo_tags = ['ceo', 'الرئيس التنفيذي']\n",
        "magazine_tags =  ['forbes', 'techcrunch', 'inc', 'nat geo', 'harvardbiz', 'engadget', 'freakonomics', 'tedtalks', 'reutersbiz', 'huffpost', \n",
        "                  'wsj', 'business', 'theeconomist', 'bw', 'businessinsider', 'cnn', 'time', 'popmech', 'Entrepreneur', 'fastcompany', 'alarabiya']\n",
        "writer_tags =  ['writer', 'editor', 'author', 'journalist', 'skinny canadian', 'news', 'report', 'cover', 'كاتب', 'صحفي', 'أكتب', 'writing', 'correspondent']\n",
        "energy_tags = ['energy', 'exxon', 'أرامكو']\n",
        "startup_tags = ['founder', 'yc', 'ycw', 'co-founder', 'مؤسس']\n",
        "programmer_tags = ['developer', 'software', 'linux', 'hacker', 'هاكر', 'مطور', 'مبرمج', '.net', 'php', 'laravel', 'gnu', 'engineer', 'cto']\n",
        "\n",
        "\n",
        "# Create logical masks to clean up data\n",
        "\n",
        "# Based on URL\n",
        "saudi_gov_url = df['url'].str.contains('|'.join(saudi_gov_url_tags), case=False)\n",
        "academic_url = df['url'].str.contains('|'.join(academic_url_tags), case=False)\n",
        "\n",
        "# Based on twitter profile bio\n",
        "saudi_gov_bio = df['description'].str.contains('|'.join(saudi_gov_bio_tags), case=False)\n",
        "academic_bio = df['description'].str.contains('|'.join(academic_bio_tags), case=False)\n",
        "vc = df['description'].str.contains('|'.join(vc_tags), case=False)\n",
        "ai = df['description'].str.contains('|'.join(ai_tags), case=False)\n",
        "product = df['description'].str.contains('|'.join(product_tags), case=False)\n",
        "writer = df['description'].str.contains('|'.join(writer_tags), case=False)\n",
        "fitness = df['description'].str.contains('|'.join(fitness_tags), case=False)\n",
        "energy = df['description'].str.contains('|'.join(energy_tags), case=False)\n",
        "startup = df['description'].str.contains('|'.join(startup_tags), case=False)\n",
        "ceo = df['description'].str.contains('|'.join(ceo_tags), case=False)\n",
        "programmer = df['description'].str.contains('|'.join(programmer_tags), case=False)\n",
        "\n",
        "# Based on twitter ID\n",
        "magazine = df['screen_name'].str.contains('|'.join(magazine_tags), case=False)\n",
        "\n",
        "# Based on a combination \n",
        "saudi_gov = saudi_gov_url | saudi_gov_bio\n",
        "academic = academic_url | academic_bio\n",
        "media = writer | magazine\n",
        "\n",
        "# Clean up data\n",
        "df.loc[saudi_gov, 'Category'] = 'Saudi Gov'\n",
        "df.loc[academic, 'Category'] = 'Academic'\n",
        "df.loc[vc, 'Category'] = 'VC'\n",
        "df.loc[ai, 'Category'] = 'AI'\n",
        "df.loc[product, 'Category'] = 'Product'\n",
        "df.loc[media, 'Category'] = 'Media (writer/magazine)'\n",
        "df.loc[fitness, 'Category'] = 'Fitness'\n",
        "df.loc[energy, 'Category'] = 'Energy'\n",
        "df.loc[startup, 'Category'] = 'Startup'\n",
        "df.loc[ceo, 'Category'] = 'CEO'\n",
        "df.loc[programmer, 'Category'] = 'Programmer'\n",
        "df.fillna('Other',inplace=True)"
      ],
      "execution_count": 0,
      "outputs": []
    },
    {
      "cell_type": "code",
      "metadata": {
        "id": "_4qXMXJzUnp9",
        "colab_type": "code",
        "outputId": "47037bcc-e18a-4a15-a606-2302eb1670eb",
        "colab": {
          "base_uri": "https://localhost:8080/",
          "height": 312
        }
      },
      "source": [
        "print('Total number of users I\\'m following: {}\\n'.format(len(following)))\n",
        "\n",
        "print('Following by')\n",
        "df.groupby('Category').count().id.sort_values(ascending=False)"
      ],
      "execution_count": 0,
      "outputs": [
        {
          "output_type": "stream",
          "text": [
            "Total number of users I'm following: 1470\n",
            "\n",
            "Following by\n"
          ],
          "name": "stdout"
        },
        {
          "output_type": "execute_result",
          "data": {
            "text/plain": [
              "Category\n",
              "Other                      399\n",
              "Programmer                 225\n",
              "AI                         168\n",
              "Media (writer/magazine)    162\n",
              "Startup                    124\n",
              "Product                     96\n",
              "CEO                         88\n",
              "VC                          70\n",
              "Saudi Gov                   55\n",
              "Energy                      36\n",
              "Academic                    33\n",
              "Fitness                     14\n",
              "Name: id, dtype: int64"
            ]
          },
          "metadata": {
            "tags": []
          },
          "execution_count": 70
        }
      ]
    },
    {
      "cell_type": "code",
      "metadata": {
        "id": "7B61NyzkstGR",
        "colab_type": "code",
        "outputId": "8ac6716c-89a1-4dc0-e5d1-5ea67b22c217",
        "colab": {
          "base_uri": "https://localhost:8080/",
          "height": 415
        }
      },
      "source": [
        "# List the users under Other\n",
        "\n",
        "ids = df[df.Category == 'Other'].id\n",
        "following[following.id.isin(ids)][['screen_name','description']]"
      ],
      "execution_count": 0,
      "outputs": [
        {
          "output_type": "execute_result",
          "data": {
            "text/html": [
              "<div>\n",
              "<style scoped>\n",
              "    .dataframe tbody tr th:only-of-type {\n",
              "        vertical-align: middle;\n",
              "    }\n",
              "\n",
              "    .dataframe tbody tr th {\n",
              "        vertical-align: top;\n",
              "    }\n",
              "\n",
              "    .dataframe thead th {\n",
              "        text-align: right;\n",
              "    }\n",
              "</style>\n",
              "<table border=\"1\" class=\"dataframe\">\n",
              "  <thead>\n",
              "    <tr style=\"text-align: right;\">\n",
              "      <th></th>\n",
              "      <th>screen_name</th>\n",
              "      <th>description</th>\n",
              "    </tr>\n",
              "  </thead>\n",
              "  <tbody>\n",
              "    <tr>\n",
              "      <th>4</th>\n",
              "      <td>JeddahAmanah</td>\n",
              "      <td>الحساب الرسمي لـ #أمانة_جدة | للطوارئ والبلاغا...</td>\n",
              "    </tr>\n",
              "    <tr>\n",
              "      <th>7</th>\n",
              "      <td>makkahregion</td>\n",
              "      <td>حساب إخباري لـ #إمارة_مكة للتواصل: prjeddah@ma...</td>\n",
              "    </tr>\n",
              "    <tr>\n",
              "      <th>10</th>\n",
              "      <td>g20org</td>\n",
              "      <td>The Official Account of #G20SaudiArabia\\nالحسا...</td>\n",
              "    </tr>\n",
              "    <tr>\n",
              "      <th>16</th>\n",
              "      <td>taqa_sa</td>\n",
              "      <td>الحملة الوطنية لترشيد استهلاك الطاقة #لتبقى.. ...</td>\n",
              "    </tr>\n",
              "    <tr>\n",
              "      <th>21</th>\n",
              "      <td>SaudiBanks</td>\n",
              "      <td>الحساب الرسمي للجنة الاعلام والتوعية المصرفية ...</td>\n",
              "    </tr>\n",
              "    <tr>\n",
              "      <th>...</th>\n",
              "      <td>...</td>\n",
              "      <td>...</td>\n",
              "    </tr>\n",
              "    <tr>\n",
              "      <th>1423</th>\n",
              "      <td>BillGates</td>\n",
              "      <td>Sharing things I'm learning through my foundat...</td>\n",
              "    </tr>\n",
              "    <tr>\n",
              "      <th>1429</th>\n",
              "      <td>HashKSA</td>\n",
              "      <td>الآن،، جوالنا المجاني حصريًا على STC أرسل 1 لل...</td>\n",
              "    </tr>\n",
              "    <tr>\n",
              "      <th>1430</th>\n",
              "      <td>spagov</td>\n",
              "      <td>الحساب الرسمي لـ واس الخاص بأخبار خادم الحرمين...</td>\n",
              "    </tr>\n",
              "    <tr>\n",
              "      <th>1431</th>\n",
              "      <td>JosephEStiglitz</td>\n",
              "      <td>The official account of Joseph E. Stiglitz, No...</td>\n",
              "    </tr>\n",
              "    <tr>\n",
              "      <th>1436</th>\n",
              "      <td>MargRev</td>\n",
              "      <td>Small steps toward a much better world.</td>\n",
              "    </tr>\n",
              "  </tbody>\n",
              "</table>\n",
              "<p>399 rows × 2 columns</p>\n",
              "</div>"
            ],
            "text/plain": [
              "          screen_name                                        description\n",
              "4        JeddahAmanah  الحساب الرسمي لـ #أمانة_جدة | للطوارئ والبلاغا...\n",
              "7        makkahregion  حساب إخباري لـ #إمارة_مكة للتواصل: prjeddah@ma...\n",
              "10             g20org  The Official Account of #G20SaudiArabia\\nالحسا...\n",
              "16            taqa_sa  الحملة الوطنية لترشيد استهلاك الطاقة #لتبقى.. ...\n",
              "21         SaudiBanks  الحساب الرسمي للجنة الاعلام والتوعية المصرفية ...\n",
              "...               ...                                                ...\n",
              "1423        BillGates  Sharing things I'm learning through my foundat...\n",
              "1429          HashKSA  الآن،، جوالنا المجاني حصريًا على STC أرسل 1 لل...\n",
              "1430           spagov  الحساب الرسمي لـ واس الخاص بأخبار خادم الحرمين...\n",
              "1431  JosephEStiglitz  The official account of Joseph E. Stiglitz, No...\n",
              "1436          MargRev            Small steps toward a much better world.\n",
              "\n",
              "[399 rows x 2 columns]"
            ]
          },
          "metadata": {
            "tags": []
          },
          "execution_count": 66
        }
      ]
    },
    {
      "cell_type": "code",
      "metadata": {
        "id": "9PiTRKhCtrWb",
        "colab_type": "code",
        "colab": {}
      },
      "source": [
        "# Unfollow all users in the fitness category\n",
        "\n",
        "fitness_df = df[df.Category == 'Fitness']\n",
        "\n",
        "for _, row in fitness_df.iterrows():    # iterate over rows in the fitness data\n",
        "  api.destroy_friendship(row['id'])     # use twitter api to unfollow based on id"
      ],
      "execution_count": 0,
      "outputs": []
    },
    {
      "cell_type": "markdown",
      "metadata": {
        "id": "3VeTVx9FGNCr",
        "colab_type": "text"
      },
      "source": [
        "# Analyzing History"
      ]
    },
    {
      "cell_type": "markdown",
      "metadata": {
        "id": "j-3yd_buGZDy",
        "colab_type": "text"
      },
      "source": [
        "## Load Saved Data from Google Drive"
      ]
    },
    {
      "cell_type": "code",
      "metadata": {
        "id": "sabXfch1GWla",
        "colab_type": "code",
        "colab": {}
      },
      "source": [
        "history = pd.read_json(path + 'follower_history.json').transpose()     # Follower history dictionary\n",
        "dates = history.index.strftime('%b %d')"
      ],
      "execution_count": 0,
      "outputs": []
    },
    {
      "cell_type": "code",
      "metadata": {
        "id": "IOMLCVDJfWCo",
        "colab_type": "code",
        "outputId": "3ecdbe2a-f9b9-4478-b124-bd98732f9fdf",
        "colab": {
          "base_uri": "https://localhost:8080/",
          "height": 390
        }
      },
      "source": [
        "# Plot the number of my followers over time\n",
        "\n",
        "plt.bar(dates, history.followers, figure=plt.figure(figsize=(10,6)), width=0.4);\n",
        "plt.ylim(8000, 1e4);\n",
        "plt.title('Followers over time in 2019');"
      ],
      "execution_count": 0,
      "outputs": [
        {
          "output_type": "display_data",
          "data": {
            "image/png": "[encoded data removed]",
            "text/plain": [
              "<Figure size 720x432 with 1 Axes>"
            ]
          },
          "metadata": {
            "tags": []
          }
        }
      ]
    },
    {
      "cell_type": "code",
      "metadata": {
        "id": "3TSB_kgr08Lj",
        "colab_type": "code",
        "outputId": "a1f54f70-ac15-4c4a-b9e9-199c93367dc5",
        "colab": {
          "base_uri": "https://localhost:8080/",
          "height": 390
        }
      },
      "source": [
        "# Plot number of users I'm following over time\n",
        "\n",
        "plt.bar(dates, history.following, figure=plt.figure(figsize=(10,6)), width=0.4);\n",
        "plt.ylim(1.35e3, 1.48e3);\n",
        "plt.title('Following over time in 2019');"
      ],
      "execution_count": 0,
      "outputs": [
        {
          "output_type": "display_data",
          "data": {
            "image/png": "[encoded data removed]",
            "text/plain": [
              "<Figure size 720x432 with 1 Axes>"
            ]
          },
          "metadata": {
            "tags": []
          }
        }
      ]
    }
  ]
}